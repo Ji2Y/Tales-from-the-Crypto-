{
 "cells": [
  {
   "cell_type": "code",
   "execution_count": null,
   "id": "f7f5ac7a-3b0e-4840-af40-6235640f4615",
   "metadata": {},
   "outputs": [],
   "source": [
    "r = requests.get('https://newsapi.org/docs/authentication', auth=(giang.p.9309@gmail.com, 1234567890123456789012345678901234567890))\n"
   ]
  }
 ],
 "metadata": {
  "kernelspec": {
   "display_name": "Python 3",
   "language": "python",
   "name": "python3"
  },
  "language_info": {
   "codemirror_mode": {
    "name": "ipython",
    "version": 3
   },
   "file_extension": ".py",
   "mimetype": "text/x-python",
   "name": "python",
   "nbconvert_exporter": "python",
   "pygments_lexer": "ipython3",
   "version": "3.8.8"
  }
 },
 "nbformat": 4,
 "nbformat_minor": 5
}
